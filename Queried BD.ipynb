{
 "cells": [
  {
   "cell_type": "code",
   "execution_count": 4,
   "metadata": {
    "collapsed": false
   },
   "outputs": [
    {
     "name": "stdout",
     "output_type": "stream",
     "text": [
      "Enter User Name - Wasim\n",
      "['Ajith', 'Alagu', 'Akila', 'Angeline', 'Angel', 'Anisha', 'Appa', 'Aruul', 'Ayub', 'Babu', 'Bala', 'bharathy ', 'bhava', 'Kavi', 'deepika', 'dinesh', 'devi bala ', 'divya ', 'Duvaraga', 'Dharshan', 'Ganapathy', 'Girija', 'Gowtham', 'Harippriya', 'Hema', 'Hari', 'Ipshita', 'Janani', 'Jeni', 'Jeya', 'JP', 'Kapil', 'Karthi', 'Kaviya', 'Keerthi', 'Keerthi.A', 'kiruthika', 'Kirutiga', 'Kishore', 'Krishna', 'Lavanya.A', 'Lavanya.M', 'Madhu ', 'Manisha', 'Mano', 'M.R', 'M.S', 'Wasim', 'Vicky', 'Sathya', 'D.hema', 'arun', 'ben', 'daisy', 'dsp sir', 'gopi', 'jaishri', ' kamatchi', 'keerthana', 'lokshini', 'nandhini', 'navitha', 'nila', 'nirajana', 'niran mom ', 'nithya', 'nivi', 'poorna', 'pradee sis', 'Pradhi', 'Priya rm', 'priya noyes', 'rajathi', 'roopa', 'samyu', 'salini', 'sheik', 'shiva', 'shiva priya', 'shiva ranjani', 'snekha', 'sofi', 'sound', 'sri', 'swetha', 'venkat', 'viju', 'vimal', 'vino', 'siva', 'Nalini', 'Nambu', 'Noopra', 'O.P', 'Pavi.M', 'Pavi.B', 'priya it', 'Priyanka', 'Radhika', 'ragavi', 'R.V', 'Sangju', 'Saranya', 'Sathya.M', 'Suresh ', 'shanthni', 'shanmuga raj', 'sheela', 'siva parvathi', 'siva sri']\n",
      "110\n",
      "Ajith\n",
      "['12', '0', '0', '0', '0']\n"
     ]
    },
    {
     "ename": "ValueError",
     "evalue": "'label' must be of length 'x'",
     "output_type": "error",
     "traceback": [
      "\u001b[1;31m---------------------------------------------------------------------------\u001b[0m",
      "\u001b[1;31mValueError\u001b[0m                                Traceback (most recent call last)",
      "\u001b[1;32m<ipython-input-4-4edfbb8ea769>\u001b[0m in \u001b[0;36m<module>\u001b[1;34m()\u001b[0m\n\u001b[0;32m     33\u001b[0m \u001b[1;32mprint\u001b[0m \u001b[0mx\u001b[0m\u001b[1;33m\u001b[0m\u001b[0m\n\u001b[0;32m     34\u001b[0m \u001b[1;33m\u001b[0m\u001b[0m\n\u001b[1;32m---> 35\u001b[1;33m \u001b[0mplt\u001b[0m\u001b[1;33m.\u001b[0m\u001b[0mpie\u001b[0m\u001b[1;33m(\u001b[0m\u001b[0mx\u001b[0m\u001b[1;33m,\u001b[0m\u001b[0mlabels\u001b[0m\u001b[1;33m=\u001b[0m\u001b[1;33m[\u001b[0m\u001b[1;34m\"selfie\"\u001b[0m\u001b[1;33m,\u001b[0m\u001b[1;34m\"cinema\"\u001b[0m\u001b[1;33m,\u001b[0m\u001b[1;34m\"family\"\u001b[0m\u001b[1;33m,\u001b[0m\u001b[1;34m\"devotional\"\u001b[0m\u001b[1;33m,\u001b[0m\u001b[1;34m\"motivational\"\u001b[0m\u001b[1;33m,\u001b[0m\u001b[1;34m\"culture\"\u001b[0m\u001b[1;33m,\u001b[0m\u001b[1;34m\"friendship\"\u001b[0m\u001b[1;33m,\u001b[0m\u001b[1;34m\"love\"\u001b[0m\u001b[1;33m,\u001b[0m\u001b[1;34m\"celebration\"\u001b[0m\u001b[1;33m,\u001b[0m\u001b[1;34m\"anime\"\u001b[0m\u001b[1;33m,\u001b[0m\u001b[1;34m\"attitude\"\u001b[0m\u001b[1;33m,\u001b[0m\u001b[1;34m\"emotional\"\u001b[0m\u001b[1;33m,\u001b[0m\u001b[1;34m\"others\"\u001b[0m\u001b[1;33m]\u001b[0m\u001b[1;33m,\u001b[0m\u001b[0mexplode\u001b[0m\u001b[1;33m=\u001b[0m\u001b[0mex\u001b[0m\u001b[1;33m)\u001b[0m\u001b[1;33m\u001b[0m\u001b[0m\n\u001b[0m\u001b[0;32m     36\u001b[0m \u001b[0mplt\u001b[0m\u001b[1;33m.\u001b[0m\u001b[0mtitle\u001b[0m\u001b[1;33m(\u001b[0m\u001b[0mname\u001b[0m\u001b[1;33m)\u001b[0m\u001b[1;33m\u001b[0m\u001b[0m\n\u001b[0;32m     37\u001b[0m \u001b[0mplt\u001b[0m\u001b[1;33m.\u001b[0m\u001b[0mshow\u001b[0m\u001b[1;33m(\u001b[0m\u001b[1;33m)\u001b[0m\u001b[1;33m\u001b[0m\u001b[0m\n",
      "\u001b[1;32mC:\\Users\\WASIM\\Anaconda2\\lib\\site-packages\\matplotlib\\pyplot.pyc\u001b[0m in \u001b[0;36mpie\u001b[1;34m(x, explode, labels, colors, autopct, pctdistance, shadow, labeldistance, startangle, radius, counterclock, wedgeprops, textprops, center, frame, hold, data)\u001b[0m\n\u001b[0;32m   3135\u001b[0m                      \u001b[0mradius\u001b[0m\u001b[1;33m=\u001b[0m\u001b[0mradius\u001b[0m\u001b[1;33m,\u001b[0m \u001b[0mcounterclock\u001b[0m\u001b[1;33m=\u001b[0m\u001b[0mcounterclock\u001b[0m\u001b[1;33m,\u001b[0m\u001b[1;33m\u001b[0m\u001b[0m\n\u001b[0;32m   3136\u001b[0m                      \u001b[0mwedgeprops\u001b[0m\u001b[1;33m=\u001b[0m\u001b[0mwedgeprops\u001b[0m\u001b[1;33m,\u001b[0m \u001b[0mtextprops\u001b[0m\u001b[1;33m=\u001b[0m\u001b[0mtextprops\u001b[0m\u001b[1;33m,\u001b[0m \u001b[0mcenter\u001b[0m\u001b[1;33m=\u001b[0m\u001b[0mcenter\u001b[0m\u001b[1;33m,\u001b[0m\u001b[1;33m\u001b[0m\u001b[0m\n\u001b[1;32m-> 3137\u001b[1;33m                      frame=frame, data=data)\n\u001b[0m\u001b[0;32m   3138\u001b[0m     \u001b[1;32mfinally\u001b[0m\u001b[1;33m:\u001b[0m\u001b[1;33m\u001b[0m\u001b[0m\n\u001b[0;32m   3139\u001b[0m         \u001b[0max\u001b[0m\u001b[1;33m.\u001b[0m\u001b[0mhold\u001b[0m\u001b[1;33m(\u001b[0m\u001b[0mwashold\u001b[0m\u001b[1;33m)\u001b[0m\u001b[1;33m\u001b[0m\u001b[0m\n",
      "\u001b[1;32mC:\\Users\\WASIM\\Anaconda2\\lib\\site-packages\\matplotlib\\__init__.pyc\u001b[0m in \u001b[0;36minner\u001b[1;34m(ax, *args, **kwargs)\u001b[0m\n\u001b[0;32m   1809\u001b[0m                     warnings.warn(msg % (label_namer, func.__name__),\n\u001b[0;32m   1810\u001b[0m                                   RuntimeWarning, stacklevel=2)\n\u001b[1;32m-> 1811\u001b[1;33m             \u001b[1;32mreturn\u001b[0m \u001b[0mfunc\u001b[0m\u001b[1;33m(\u001b[0m\u001b[0max\u001b[0m\u001b[1;33m,\u001b[0m \u001b[1;33m*\u001b[0m\u001b[0margs\u001b[0m\u001b[1;33m,\u001b[0m \u001b[1;33m**\u001b[0m\u001b[0mkwargs\u001b[0m\u001b[1;33m)\u001b[0m\u001b[1;33m\u001b[0m\u001b[0m\n\u001b[0m\u001b[0;32m   1812\u001b[0m         \u001b[0mpre_doc\u001b[0m \u001b[1;33m=\u001b[0m \u001b[0minner\u001b[0m\u001b[1;33m.\u001b[0m\u001b[0m__doc__\u001b[0m\u001b[1;33m\u001b[0m\u001b[0m\n\u001b[0;32m   1813\u001b[0m         \u001b[1;32mif\u001b[0m \u001b[0mpre_doc\u001b[0m \u001b[1;32mis\u001b[0m \u001b[0mNone\u001b[0m\u001b[1;33m:\u001b[0m\u001b[1;33m\u001b[0m\u001b[0m\n",
      "\u001b[1;32mC:\\Users\\WASIM\\Anaconda2\\lib\\site-packages\\matplotlib\\axes\\_axes.pyc\u001b[0m in \u001b[0;36mpie\u001b[1;34m(self, x, explode, labels, colors, autopct, pctdistance, shadow, labeldistance, startangle, radius, counterclock, wedgeprops, textprops, center, frame)\u001b[0m\n\u001b[0;32m   2557\u001b[0m             \u001b[0mexplode\u001b[0m \u001b[1;33m=\u001b[0m \u001b[1;33m[\u001b[0m\u001b[1;36m0\u001b[0m\u001b[1;33m]\u001b[0m \u001b[1;33m*\u001b[0m \u001b[0mlen\u001b[0m\u001b[1;33m(\u001b[0m\u001b[0mx\u001b[0m\u001b[1;33m)\u001b[0m\u001b[1;33m\u001b[0m\u001b[0m\n\u001b[0;32m   2558\u001b[0m         \u001b[1;32mif\u001b[0m \u001b[0mlen\u001b[0m\u001b[1;33m(\u001b[0m\u001b[0mx\u001b[0m\u001b[1;33m)\u001b[0m \u001b[1;33m!=\u001b[0m \u001b[0mlen\u001b[0m\u001b[1;33m(\u001b[0m\u001b[0mlabels\u001b[0m\u001b[1;33m)\u001b[0m\u001b[1;33m:\u001b[0m\u001b[1;33m\u001b[0m\u001b[0m\n\u001b[1;32m-> 2559\u001b[1;33m             \u001b[1;32mraise\u001b[0m \u001b[0mValueError\u001b[0m\u001b[1;33m(\u001b[0m\u001b[1;34m\"'label' must be of length 'x'\"\u001b[0m\u001b[1;33m)\u001b[0m\u001b[1;33m\u001b[0m\u001b[0m\n\u001b[0m\u001b[0;32m   2560\u001b[0m         \u001b[1;32mif\u001b[0m \u001b[0mlen\u001b[0m\u001b[1;33m(\u001b[0m\u001b[0mx\u001b[0m\u001b[1;33m)\u001b[0m \u001b[1;33m!=\u001b[0m \u001b[0mlen\u001b[0m\u001b[1;33m(\u001b[0m\u001b[0mexplode\u001b[0m\u001b[1;33m)\u001b[0m\u001b[1;33m:\u001b[0m\u001b[1;33m\u001b[0m\u001b[0m\n\u001b[0;32m   2561\u001b[0m             \u001b[1;32mraise\u001b[0m \u001b[0mValueError\u001b[0m\u001b[1;33m(\u001b[0m\u001b[1;34m\"'explode' must be of length 'x'\"\u001b[0m\u001b[1;33m)\u001b[0m\u001b[1;33m\u001b[0m\u001b[0m\n",
      "\u001b[1;31mValueError\u001b[0m: 'label' must be of length 'x'"
     ]
    }
   ],
   "source": [
    "import csv\n",
    "import matplotlib.pyplot as plt\n",
    "username=raw_input(\"Enter User Name - \")\n",
    "l=[]\n",
    "name=[]\n",
    "no=[]\n",
    "ex=[]\n",
    "nl=[]\n",
    "with open('BHA.csv','rb') as csvfile:\n",
    "    sr=csv.reader(csvfile,delimiter='\\t')\n",
    "    for i in sr:\n",
    "        l.append(i[0])\n",
    "        for j in i:\n",
    "            s=j.split(\",\")\n",
    "            n=s[0]\n",
    "            nl.append(n)\n",
    "print nl\n",
    "print len(nl)\n",
    "    \n",
    "for i in l:\n",
    "    a=i\n",
    "    l.pop(0)\n",
    "    break\n",
    "x=a.split(\",\")\n",
    "name=x.pop(0)\n",
    "print name\n",
    "m=max(x)\n",
    "for i in x:\n",
    "    if i==m:\n",
    "        ex.append(0.2)\n",
    "    else:\n",
    "        ex.append(0)\n",
    "print x\n",
    "\n",
    "plt.pie(x,labels=[\"selfie\",\"cinema\",\"family\",\"devotional\",\"motivational\",\"culture\",\"friendship\",\"love\",\"celebration\",\"anime\",\"attitude\",\"emotional\",\"others\"],explode=ex)\n",
    "plt.title(name)\n",
    "plt.show()"
   ]
  },
  {
   "cell_type": "code",
   "execution_count": 1,
   "metadata": {
    "collapsed": false
   },
   "outputs": [
    {
     "name": "stdout",
     "output_type": "stream",
     "text": [
      "Enter User Name - Wasim\n"
     ]
    }
   ],
   "source": [
    "import csv\n",
    "import matplotlib.pyplot as plt\n",
    "nl=[]\n",
    "ex=[]\n",
    "nn=[]\n",
    "username=raw_input(\"Enter User Name - \")\n",
    "with open('BH1.csv','rb') as csvfile:\n",
    "    sr=csv.reader(csvfile,delimiter='\\t')\n",
    "    for i in sr:\n",
    "        for j in i:\n",
    "            s=j.split(\",\")\n",
    "            nl.append(s)\n",
    "for i in nl:\n",
    "    nn.append(i[0])\n",
    "if username not in nn:\n",
    "    print \"No valid\"\n",
    "else:\n",
    "    for i in nl:\n",
    "        name=i[0]\n",
    "        if username==name:\n",
    "            name=i.pop(0)\n",
    "            m=max(i)\n",
    "            for a in i:\n",
    "                if a==m:\n",
    "                    ex.append(0.2)\n",
    "                else:\n",
    "                    ex.append(0)\n",
    "            plt.pie(i,labels=[\"selfie\",\"cinema\",\"family\",\"devotional\",\"motivational\",\"culture\",\"friendship\",\"love\",\"celebration\",\"anime\",\"attitude\",\"emotional\",\"others\"],explode=ex)\n",
    "            plt.title(name)\n",
    "plt.show()"
   ]
  },
  {
   "cell_type": "code",
   "execution_count": null,
   "metadata": {
    "collapsed": false
   },
   "outputs": [
    {
     "name": "stdout",
     "output_type": "stream",
     "text": [
      "Ajith 2\n",
      "Alagu 2\n",
      "Akila 2\n",
      "Angeline 2\n",
      "Angel 2\n",
      "Anisha 2\n",
      "Appa 2\n",
      "Aruul 2\n",
      "Ayub 2\n",
      "Babu 2\n",
      "Bala 2\n",
      "bharathy  2\n",
      "bhava 2\n",
      "Kavi 2\n",
      "deepika 2\n",
      "dinesh 2\n",
      "devi bala  2\n",
      "divya  2\n",
      "Duvaraga 2\n",
      "Dharshan 2\n",
      "Ganapathy 2\n",
      "Girija 2\n",
      "Gowtham 2\n",
      "Harippriya 2\n",
      "Hema 2\n",
      "Hari 2\n",
      "Ipshita 2\n",
      "Janani 2\n",
      "Jeni 2\n",
      "Jeya 2\n",
      "JP 2\n",
      "Kapil 2\n",
      "Karthi 2\n",
      "Kaviya 2\n",
      "Keerthi 2\n",
      "Keerthi.A 2\n",
      "kiruthika 2\n",
      "Kirutiga 2\n",
      "Kishore 2\n",
      "Krishna 2\n",
      "Lavanya.A 2\n",
      "Lavanya.M 2\n",
      "Madhu  2\n",
      "Manisha 2\n",
      "Mano 2\n",
      "M.R 2\n",
      "M.S 2\n",
      "Wasim 2\n",
      "Vicky 2\n",
      "Sathya 2\n",
      "D.hema 2\n",
      "arun 2\n",
      "ben 2\n",
      "daisy 2\n",
      "dsp sir 2\n",
      "gopi 2\n",
      "jaishri 2\n",
      " kamatchi 2\n",
      "keerthana 2\n",
      "lokshini 2\n",
      "nandhini 2\n",
      "navitha 2\n",
      "nila 2\n",
      "nirajana 2\n",
      "niran mom  2\n",
      "nithya 2\n",
      "nivi 2\n",
      "poorna 2\n",
      "pradee sis 2\n",
      "Pradhi 2\n",
      "Priya rm 2\n",
      "priya noyes 2\n",
      "rajathi 2\n",
      "roopa 2\n",
      "samyu 2\n",
      "salini 2\n",
      "sheik 2\n",
      "shiva 2\n",
      "shiva priya 2\n",
      "shiva ranjani 2\n",
      "snekha 2\n",
      "sofi 2\n",
      "sound 2\n",
      "sri 2\n",
      "swetha 2\n",
      "venkat 2\n",
      "viju 2\n",
      "vimal 2\n",
      "vino 2\n",
      "siva 2\n",
      "Nalini 2\n",
      "Nambu 2\n",
      "Noopra 2\n",
      "O.P 2\n",
      "Pavi.M 2\n",
      "Pavi.B 2\n",
      "priya it 2\n",
      "Priyanka 2\n",
      "Radhika 2\n",
      "ragavi 2\n",
      "R.V 2\n",
      "Sangju 2\n",
      "Saranya 2\n",
      "Sathya.M 2\n",
      "Suresh  2\n",
      "shanthni 2\n",
      "shanmuga raj 2\n",
      "sheela 2\n",
      "siva parvathi 2\n",
      "siva sri 2\n",
      "['Ajith', 'Alagu', 'Akila', 'Angeline', 'Angel', 'Anisha', 'Appa', 'Aruul', 'Ayub', 'Babu', 'Bala', 'bharathy ', 'bhava', 'Kavi', 'deepika', 'dinesh', 'devi bala ', 'divya ', 'Duvaraga', 'Dharshan', 'Ganapathy', 'Girija', 'Gowtham', 'Harippriya', 'Hema', 'Hari', 'Ipshita', 'Janani', 'Jeni', 'Jeya', 'JP', 'Kapil', 'Karthi', 'Kaviya', 'Keerthi', 'Keerthi.A', 'kiruthika', 'Kirutiga', 'Kishore', 'Krishna', 'Lavanya.A', 'Lavanya.M', 'Madhu ', 'Manisha', 'Mano', 'M.R', 'M.S', 'Wasim', 'Vicky', 'Sathya', 'D.hema', 'arun', 'ben', 'daisy', 'dsp sir', 'gopi', 'jaishri', ' kamatchi', 'keerthana', 'lokshini', 'nandhini', 'navitha', 'nila', 'nirajana', 'niran mom ', 'nithya', 'nivi', 'poorna', 'pradee sis', 'Pradhi', 'Priya rm', 'priya noyes', 'rajathi', 'roopa', 'samyu', 'salini', 'sheik', 'shiva', 'shiva priya', 'shiva ranjani', 'snekha', 'sofi', 'sound', 'sri', 'swetha', 'venkat', 'viju', 'vimal', 'vino', 'siva', 'Nalini', 'Nambu', 'Noopra', 'O.P', 'Pavi.M', 'Pavi.B', 'priya it', 'Priyanka', 'Radhika', 'ragavi', 'R.V', 'Sangju', 'Saranya', 'Sathya.M', 'Suresh ', 'shanthni', 'shanmuga raj', 'sheela', 'siva parvathi', 'siva sri']\n",
      "[2, 2, 2, 2, 2, 2, 2, 2, 2, 2, 2, 2, 2, 2, 2, 2, 2, 2, 2, 2, 2, 2, 2, 2, 2, 2, 2, 2, 2, 2, 2, 2, 2, 2, 2, 2, 2, 2, 2, 2, 2, 2, 2, 2, 2, 2, 2, 2, 2, 2, 2, 2, 2, 2, 2, 2, 2, 2, 2, 2, 2, 2, 2, 2, 2, 2, 2, 2, 2, 2, 2, 2, 2, 2, 2, 2, 2, 2, 2, 2, 2, 2, 2, 2, 2, 2, 2, 2, 2, 2, 2, 2, 2, 2, 2, 2, 2, 2, 2, 2, 2, 2, 2, 2, 2, 2, 2, 2, 2, 2]\n",
      "[1, 2, 3, 4, 5, 6, 7, 8, 9, 10, 11, 12, 13, 14, 15, 16, 17, 18, 19, 20, 21, 22, 23, 24, 25, 26, 27, 28, 29, 30, 31, 32, 33, 34, 35, 36, 37, 38, 39, 40, 41, 42, 43, 44, 45, 46, 47, 48, 49, 50, 51, 52, 53, 54, 55, 56, 57, 58, 59, 60, 61, 62, 63, 64, 65, 66, 67, 68, 69, 70, 71, 72, 73, 74, 75, 76, 77, 78, 79, 80, 81, 82, 83, 84, 85, 86, 87, 88, 89, 90, 91, 92, 93, 94, 95, 96, 97, 98, 99, 100, 101, 102, 103, 104, 105, 106, 107, 108, 109, 110]\n"
     ]
    }
   ],
   "source": [
    "import csv\n",
    "import numpy as np\n",
    "import matplotlib.pyplot as plt\n",
    "nl=[]\n",
    "fy=[]\n",
    "xn=[]\n",
    "xs=[]\n",
    "gl=[]\n",
    "s=0\n",
    "s=int(s)\n",
    "with open('BH1.csv','rb') as csvfile:\n",
    "    sr=csv.reader(csvfile,delimiter='\\t')\n",
    "    for i in sr:\n",
    "        for j in i:\n",
    "            x=j.split(\",\")\n",
    "            name=x.pop(0)\n",
    "            x=map(int,x)\n",
    "            s=sum(x)\n",
    "            print name,s\n",
    "            xn.append(name)\n",
    "            xs.append(s)\n",
    "print xn\n",
    "print xs\n",
    "for i in range(1,111):\n",
    "    gl.append(i)\n",
    "print gl\n",
    "plt.bar(gl,xs)\n",
    "plt.show()"
   ]
  },
  {
   "cell_type": "code",
   "execution_count": 13,
   "metadata": {
    "collapsed": false
   },
   "outputs": [
    {
     "name": "stdout",
     "output_type": "stream",
     "text": [
      "['1', '2', '3']\n",
      "[4, 5, 6]\n"
     ]
    }
   ],
   "source": [
    "a=(['1','2','3'],[4,5,6])\n",
    "for i in a:\n",
    "    print i"
   ]
  },
  {
   "cell_type": "code",
   "execution_count": 37,
   "metadata": {
    "collapsed": false
   },
   "outputs": [
    {
     "data": {
      "text/plain": [
       "list"
      ]
     },
     "execution_count": 37,
     "metadata": {},
     "output_type": "execute_result"
    }
   ],
   "source": [
    "type(i)"
   ]
  },
  {
   "cell_type": "code",
   "execution_count": 3,
   "metadata": {
    "collapsed": false
   },
   "outputs": [],
   "source": [
    "import plotly\n"
   ]
  },
  {
   "cell_type": "code",
   "execution_count": null,
   "metadata": {
    "collapsed": true
   },
   "outputs": [],
   "source": []
  }
 ],
 "metadata": {
  "anaconda-cloud": {},
  "kernelspec": {
   "display_name": "Python [Root]",
   "language": "python",
   "name": "Python [Root]"
  },
  "language_info": {
   "codemirror_mode": {
    "name": "ipython",
    "version": 2
   },
   "file_extension": ".py",
   "mimetype": "text/x-python",
   "name": "python",
   "nbconvert_exporter": "python",
   "pygments_lexer": "ipython2",
   "version": "2.7.12"
  }
 },
 "nbformat": 4,
 "nbformat_minor": 0
}
